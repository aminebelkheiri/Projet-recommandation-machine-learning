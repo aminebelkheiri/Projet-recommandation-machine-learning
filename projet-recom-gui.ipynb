{
 "cells": [
  {
   "cell_type": "code",
   "execution_count": 146,
   "metadata": {},
   "outputs": [],
   "source": [
    "from tkinter import *\n",
    "import tkinter.messagebox\n",
    "\n",
    "from PIL import Image, ImageTk"
   ]
  },
  {
   "cell_type": "code",
   "execution_count": 147,
   "metadata": {},
   "outputs": [],
   "source": [
    "utilisateurs = [\"Ray Man\"]"
   ]
  },
  {
   "cell_type": "code",
   "execution_count": 148,
   "metadata": {},
   "outputs": [],
   "source": [
    "def verification():\n",
    "    leprenomNom = entry_2.get()\n",
    "    MaFen_n_rec=Toplevel(Mafenetre1)\n",
    "    if leprenomNom not in utilisateurs:\n",
    "        \n",
    "        #user_non_reconnu()\n",
    "        MaFen_n_rec.geometry('500x600')\n",
    "        MaFen_n_rec.title(\"CINEMA BIGRAMA\")\n",
    "\n",
    "        imge = Image.open('cinema-wallpaper2.gif')\n",
    "        photo = ImageTk.PhotoImage(imge)\n",
    "\n",
    "        lab = Label(image=photo)\n",
    "        lab.pack()\n",
    "        \n",
    "\n",
    "\n",
    "        def printt():\n",
    "            pass\n",
    "    \n",
    "        label_0 = Label(MaFen_n_rec, text=\"CINEMA BIGRAMA\", relief=\"solid\",width=20,font=(\"arial\",19,\"bold\"))\n",
    "        label_0.place(x=90,y=70) \n",
    "\n",
    "        label_1 = Label(MaFen_n_rec, text=\"Vous n'êtes pas inscrit.\\n Voulez-vous vous inscrire?\",width=30,font=(\"bold\",15))\n",
    "        label_1.place(x=70,y=220) \n",
    "\n",
    "\n",
    "        but_oui = Button(MaFen_n_rec, text='OUI', width=12,bg='brown', fg='white',command=printt).place(x=150,y=350)\n",
    "        but_non = Button(MaFen_n_rec, text='NON', width=12,bg='brown', fg='white',command=exitt).place(x=280,y=350)\n",
    "\n",
    "        MaFen_n_rec.mainloop()\n",
    "       \n",
    "\n",
    "    else:\n",
    "        user_reconnu()"
   ]
  },
  {
   "cell_type": "code",
   "execution_count": 149,
   "metadata": {},
   "outputs": [],
   "source": [
    "def avoir_stats():\n",
    "    pass"
   ]
  },
  {
   "cell_type": "code",
   "execution_count": 150,
   "metadata": {},
   "outputs": [],
   "source": [
    "def avoir_recomm():\n",
    "    pass"
   ]
  },
  {
   "cell_type": "code",
   "execution_count": 151,
   "metadata": {},
   "outputs": [],
   "source": [
    "def user_reconnu():\n",
    "    Mafenetre1.destroy()\n",
    "    MaFen_rec = Tk()\n",
    "    MaFen_rec.geometry('500x600')\n",
    "    MaFen_rec.title(\"CINEMA BIGRAMA\")\n",
    "\n",
    "    imge = Image.open('cinema-wallpaper3.gif')\n",
    "    photo = ImageTk.PhotoImage(imge)\n",
    "\n",
    "    lab = Label(image=photo)\n",
    "    lab.pack()\n",
    "\n",
    "\n",
    "    def printt():\n",
    "        pass\n",
    "    \n",
    "    label_0 = Label(MaFen_rec, text=\"CINEMA BIGRAMA\", relief=\"solid\",width=20,font=(\"arial\",19,\"bold\"))\n",
    "    label_0.place(x=90,y=70) \n",
    "\n",
    "    label_1 = Label(MaFen_rec, text=f\"Bienvenue {identification.get()}.\\n Faites votre choix.\" ,width=25,font=(\"bold\",18))\n",
    "    label_1.place(x=70,y=220) \n",
    "\n",
    "\n",
    "    but_stats = Button(MaFen_rec, text='Avoir des statistiques', width=22,bg='brown', fg='white',command=avoir_stats).place(x=100,y=350)\n",
    "    but_recomm = Button(MaFen_rec, text='Avoir des recommandations', width=22,bg='brown', fg='white',command=avoir_recomm).place(x=280,y=350)\n",
    "\n",
    "    MaFen_rec.mainloop()"
   ]
  },
  {
   "cell_type": "code",
   "execution_count": 152,
   "metadata": {},
   "outputs": [],
   "source": [
    "#user_reconnu()"
   ]
  },
  {
   "cell_type": "code",
   "execution_count": 153,
   "metadata": {},
   "outputs": [],
   "source": [
    "def exitt():\n",
    "    \n",
    "    Mafenetre1.destroy()\n",
    "    Mafenetre0 = Tk()\n",
    "    Mafenetre0.geometry('500x600')\n",
    "    Mafenetre0.title(\"CINEMA BIGRAMA\")\n",
    "\n",
    "    imge = Image.open('cinema-wallpaper0.gif')\n",
    "    photo2 = ImageTk.PhotoImage(imge)\n",
    "\n",
    "    lab = Label(image=photo2)\n",
    "    lab.pack()\n",
    "\n",
    "\n",
    "    label_0 = Label(Mafenetre0, text=\"CINEMA BIGRAMA\", relief=\"solid\",width=20,font=(\"arial\",20,\"bold\"))\n",
    "    label_0.place(x=90,y=70) \n",
    "\n",
    "    label_1 = Label(Mafenetre0, text=\"Au revoir et à bientôt\",width=25,font=(\"bold\",20))\n",
    "    label_1.place(x=70,y=220) \n",
    "\n",
    "    but_quitter = Button(Mafenetre0, text='Quitter', width=12,bg='brown', fg='white',command=Mafenetre0.destroy).place(x=280,y=450)\n",
    "\n",
    "    Mafenetre0.mainloop()\n",
    "    \n",
    "    "
   ]
  },
  {
   "cell_type": "code",
   "execution_count": null,
   "metadata": {},
   "outputs": [],
   "source": []
  },
  {
   "cell_type": "code",
   "execution_count": 154,
   "metadata": {},
   "outputs": [],
   "source": [
    "from tkinter import *\n",
    "import tkinter.messagebox\n",
    "\n",
    "from PIL import Image, ImageTk\n",
    "\n",
    "Mafenetre1 = Tk()\n",
    "\n",
    "\n",
    "\n",
    "def primo():\n",
    "    \n",
    "    global entry_2\n",
    "    global identification\n",
    "    Mafenetre1.geometry('500x600')\n",
    "    Mafenetre1.title(\"CINEMA BIGRAMA\")\n",
    "\n",
    "    imge = Image.open('cinema-wallpaper.gif')\n",
    "    photo = ImageTk.PhotoImage(imge)\n",
    "\n",
    "    lab = Label(image=photo)\n",
    "    lab.pack()\n",
    "\n",
    "\n",
    "    identification = StringVar(Mafenetre1)\n",
    "    var = StringVar()\n",
    "\n",
    "\n",
    "\n",
    "\n",
    "    label_0 = Label(Mafenetre1, text=\"CINEMA BIGRAMA\", relief=\"solid\",width=20,font=(\"arial\",19,\"bold\"))\n",
    "    label_0.place(x=90,y=70) \n",
    "\n",
    "    label_1 = Label(Mafenetre1, text=\"Veuillez indiquer vos prénom et nom svp:\",width=40,font=(\"bold\",10))\n",
    "    label_1.place(x=70,y=220) \n",
    "\n",
    "    #entry_1 = Entry(root, textvar=fn,width=30)\n",
    "    #entry_1.place(x=250,y=162)\n",
    "\n",
    "    label_2 = Label(Mafenetre1, text=\"Prénom et Nom :\",width=20,font=(\"bold\",10))\n",
    "    label_2.place(x=70,y=280) \n",
    "\n",
    "    entry_2 = Entry(Mafenetre1, textvar=identification,width=30)\n",
    "    entry_2.place(x=250,y=282)\n",
    "    \n",
    "   \n",
    "\n",
    "\n",
    "    but_valider = Button(Mafenetre1, text='Valider', width=12,bg='brown', fg='white',command=verification).place(x=100,y=450)\n",
    "    but_quit = Button(Mafenetre1, text='Quitter', width=12,bg='brown', fg='white',command=exitt).place(x=280,y=450)\n",
    "    \n",
    "    Mafenetre1.mainloop()\n",
    "    \n",
    "   "
   ]
  },
  {
   "cell_type": "code",
   "execution_count": null,
   "metadata": {},
   "outputs": [],
   "source": []
  },
  {
   "cell_type": "code",
   "execution_count": 155,
   "metadata": {},
   "outputs": [],
   "source": [
    "primo()"
   ]
  }
 ],
 "metadata": {
  "kernelspec": {
   "display_name": "Python 3",
   "language": "python",
   "name": "python3"
  },
  "language_info": {
   "codemirror_mode": {
    "name": "ipython",
    "version": 3
   },
   "file_extension": ".py",
   "mimetype": "text/x-python",
   "name": "python",
   "nbconvert_exporter": "python",
   "pygments_lexer": "ipython3",
   "version": "3.7.3"
  }
 },
 "nbformat": 4,
 "nbformat_minor": 2
}
